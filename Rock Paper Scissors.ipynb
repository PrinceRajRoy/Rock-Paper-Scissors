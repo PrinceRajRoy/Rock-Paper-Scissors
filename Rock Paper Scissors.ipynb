{
 "cells": [
  {
   "cell_type": "code",
   "execution_count": 61,
   "metadata": {},
   "outputs": [],
   "source": [
    "import os\n",
    "import zipfile\n",
    "import time\n",
    "import numpy as np\n",
    "#os.environ['CUDA_VISIBLE_DEVICES'] = '-1'\n",
    "\n",
    "local_zip = 'tmp/rps.zip'\n",
    "zip_ref = zipfile.ZipFile(local_zip, 'r')\n",
    "zip_ref.extractall('tmp/')\n",
    "zip_ref.close()\n",
    "\n",
    "local_zip = 'tmp/rps-test-set.zip'\n",
    "zip_ref = zipfile.ZipFile(local_zip, 'r')\n",
    "zip_ref.extractall('tmp/')\n",
    "zip_ref.close()"
   ]
  },
  {
   "cell_type": "code",
   "execution_count": 62,
   "metadata": {},
   "outputs": [
    {
     "name": "stdout",
     "output_type": "stream",
     "text": [
      "Found 2520 images belonging to 3 classes.\n",
      "Found 372 images belonging to 3 classes.\n"
     ]
    }
   ],
   "source": [
    "from tensorflow import keras\n",
    "TRAINING_DIR ='tmp/rps/'\n",
    "training_datagen = keras.preprocessing.image.ImageDataGenerator(\n",
    "    rescale = 1./255,\n",
    "    rotation_range = 40,\n",
    "    width_shift_range = 0.2,\n",
    "    height_shift_range = 0.2,\n",
    "    shear_range = 0.2,\n",
    "    zoom_range = 0.2,\n",
    "    horizontal_flip = True,\n",
    "    fill_mode = 'nearest'\n",
    ")\n",
    "\n",
    "train_generator = training_datagen.flow_from_directory(\n",
    "        TRAINING_DIR,\n",
    "        target_size=(150, 150),\n",
    "        class_mode='categorical'\n",
    ")\n",
    "\n",
    "TESTING_DIR = '/tmp/rps-test-set/'\n",
    "testing_datagen = keras.preprocessing.image.ImageDataGenerator(rescale = 1./255)\n",
    "\n",
    "testing_generator = testing_datagen.flow_from_directory(\n",
    "        TESTING_DIR,\n",
    "        target_size=(150, 150),\n",
    "        class_mode='categorical'\n",
    ")"
   ]
  },
  {
   "cell_type": "code",
   "execution_count": 49,
   "metadata": {},
   "outputs": [
    {
     "name": "stdout",
     "output_type": "stream",
     "text": [
      "_________________________________________________________________\n",
      "Layer (type)                 Output Shape              Param #   \n",
      "=================================================================\n",
      "conv2d_20 (Conv2D)           (None, 148, 148, 64)      1792      \n",
      "_________________________________________________________________\n",
      "max_pooling2d_20 (MaxPooling (None, 74, 74, 64)        0         \n",
      "_________________________________________________________________\n",
      "conv2d_21 (Conv2D)           (None, 72, 72, 64)        36928     \n",
      "_________________________________________________________________\n",
      "max_pooling2d_21 (MaxPooling (None, 36, 36, 64)        0         \n",
      "_________________________________________________________________\n",
      "conv2d_22 (Conv2D)           (None, 34, 34, 128)       73856     \n",
      "_________________________________________________________________\n",
      "max_pooling2d_22 (MaxPooling (None, 17, 17, 128)       0         \n",
      "_________________________________________________________________\n",
      "conv2d_23 (Conv2D)           (None, 15, 15, 128)       147584    \n",
      "_________________________________________________________________\n",
      "max_pooling2d_23 (MaxPooling (None, 7, 7, 128)         0         \n",
      "_________________________________________________________________\n",
      "flatten_5 (Flatten)          (None, 6272)              0         \n",
      "_________________________________________________________________\n",
      "dropout_5 (Dropout)          (None, 6272)              0         \n",
      "_________________________________________________________________\n",
      "dense_10 (Dense)             (None, 512)               3211776   \n",
      "_________________________________________________________________\n",
      "dense_11 (Dense)             (None, 3)                 1539      \n",
      "=================================================================\n",
      "Total params: 3,473,475\n",
      "Trainable params: 3,473,475\n",
      "Non-trainable params: 0\n",
      "_________________________________________________________________\n"
     ]
    }
   ],
   "source": [
    "model = keras.Sequential([\n",
    "                        keras.layers.Conv2D(64, (3,3), activation='relu', input_shape=(150, 150, 3)),\n",
    "                        keras.layers.MaxPooling2D(2,2),\n",
    "                        keras.layers.Conv2D(64, (3,3), activation='relu'),\n",
    "                        keras.layers.MaxPooling2D(2,2),\n",
    "                        keras.layers.Conv2D(128, (3,3), activation='relu'),\n",
    "                        keras.layers.MaxPooling2D(2,2),\n",
    "                        keras.layers.Conv2D(128, (3,3), activation='relu'),\n",
    "                        keras.layers.MaxPooling2D(2,2),\n",
    "                        keras.layers.Flatten(),\n",
    "                        keras.layers.Dropout(rate = 0.5),\n",
    "                        keras.layers.Dense(512, activation='relu'),\n",
    "                        keras.layers.Dense(3, activation='softmax')\n",
    "                    ])\n",
    "\n",
    "model.summary()"
   ]
  },
  {
   "cell_type": "code",
   "execution_count": 80,
   "metadata": {
    "scrolled": false
   },
   "outputs": [
    {
     "name": "stdout",
     "output_type": "stream",
     "text": [
      "Epoch 1/25\n",
      "12/12 [==============================] - 1s 79ms/step - loss: 0.4078 - acc: 0.9059\n",
      "79/79 [==============================] - 17s 210ms/step - loss: 0.0704 - acc: 0.9857 - val_loss: 0.4078 - val_acc: 0.9059\n",
      "Epoch 2/25\n",
      "12/12 [==============================] - 1s 75ms/step - loss: 0.6801 - acc: 0.8952\n",
      "79/79 [==============================] - 15s 189ms/step - loss: 0.0519 - acc: 0.9881 - val_loss: 0.6801 - val_acc: 0.8952\n",
      "Epoch 3/25\n",
      "12/12 [==============================] - 1s 82ms/step - loss: 0.6805 - acc: 0.8710\n",
      "79/79 [==============================] - 16s 204ms/step - loss: 0.0486 - acc: 0.9877 - val_loss: 0.6805 - val_acc: 0.8710\n",
      "Epoch 4/25\n",
      "12/12 [==============================] - 1s 107ms/step - loss: 0.1744 - acc: 0.9247\n",
      "79/79 [==============================] - 18s 228ms/step - loss: 0.0371 - acc: 0.9905 - val_loss: 0.1744 - val_acc: 0.9247\n",
      "Epoch 5/25\n",
      "12/12 [==============================] - 1s 78ms/step - loss: 0.7200 - acc: 0.9167\n",
      "79/79 [==============================] - 17s 211ms/step - loss: 0.0615 - acc: 0.9893 - val_loss: 0.7200 - val_acc: 0.9167\n",
      "Epoch 6/25\n",
      "12/12 [==============================] - 1s 81ms/step - loss: 1.4014 - acc: 0.8952\n",
      "79/79 [==============================] - 16s 202ms/step - loss: 0.0428 - acc: 0.9901 - val_loss: 1.4014 - val_acc: 0.8952\n",
      "Epoch 7/25\n",
      "12/12 [==============================] - 1s 92ms/step - loss: 0.7407 - acc: 0.9167\n",
      "79/79 [==============================] - 16s 198ms/step - loss: 0.0692 - acc: 0.9869 - val_loss: 0.7407 - val_acc: 0.9167\n",
      "Epoch 8/25\n",
      "12/12 [==============================] - 1s 89ms/step - loss: 0.2546 - acc: 0.9516\n",
      "79/79 [==============================] - 16s 205ms/step - loss: 0.0560 - acc: 0.9885 - val_loss: 0.2546 - val_acc: 0.9516\n",
      "Epoch 9/25\n",
      "12/12 [==============================] - 1s 80ms/step - loss: 0.2130 - acc: 0.9382\n",
      "79/79 [==============================] - 17s 210ms/step - loss: 0.0599 - acc: 0.9853 - val_loss: 0.2130 - val_acc: 0.9382\n",
      "Epoch 10/25\n",
      "12/12 [==============================] - 1s 82ms/step - loss: 0.4097 - acc: 0.8844\n",
      "79/79 [==============================] - 16s 202ms/step - loss: 0.0467 - acc: 0.9877 - val_loss: 0.4097 - val_acc: 0.8844\n",
      "Epoch 11/25\n",
      "12/12 [==============================] - 1s 79ms/step - loss: 0.0277 - acc: 0.9785: 2s - loss: 0.0363 - ac - ETA: 0s - loss: 0.0438 -\n",
      "79/79 [==============================] - 16s 200ms/step - loss: 0.0427 - acc: 0.9901 - val_loss: 0.0277 - val_acc: 0.9785\n",
      "Epoch 12/25\n",
      "12/12 [==============================] - 1s 79ms/step - loss: 0.9280 - acc: 0.8737\n",
      "79/79 [==============================] - 16s 198ms/step - loss: 0.0910 - acc: 0.9798 - val_loss: 0.9280 - val_acc: 0.8737\n",
      "Epoch 13/25\n",
      "12/12 [==============================] - 1s 76ms/step - loss: 0.5842 - acc: 0.9140\n",
      "79/79 [==============================] - 16s 199ms/step - loss: 0.0666 - acc: 0.9881 - val_loss: 0.5842 - val_acc: 0.9140\n",
      "Epoch 14/25\n",
      "12/12 [==============================] - 1s 92ms/step - loss: 0.2046 - acc: 0.9140\n",
      "79/79 [==============================] - 16s 208ms/step - loss: 0.0787 - acc: 0.9841 - val_loss: 0.2046 - val_acc: 0.9140\n",
      "Epoch 15/25\n",
      "12/12 [==============================] - 1s 79ms/step - loss: 0.4653 - acc: 0.9167\n",
      "79/79 [==============================] - 16s 202ms/step - loss: 0.0596 - acc: 0.9889 - val_loss: 0.4653 - val_acc: 0.9167\n",
      "Epoch 16/25\n",
      "12/12 [==============================] - 1s 81ms/step - loss: 0.1595 - acc: 0.9167: 1s - loss: \n",
      "79/79 [==============================] - 16s 197ms/step - loss: 0.0542 - acc: 0.9877 - val_loss: 0.1595 - val_acc: 0.9167\n",
      "Epoch 17/25\n",
      "12/12 [==============================] - 1s 79ms/step - loss: 0.5320 - acc: 0.9167\n",
      "79/79 [==============================] - 16s 201ms/step - loss: 0.0390 - acc: 0.9889 - val_loss: 0.5320 - val_acc: 0.9167\n",
      "Epoch 18/25\n",
      "12/12 [==============================] - 1s 83ms/step - loss: 1.0861 - acc: 0.9167\n",
      "79/79 [==============================] - 16s 198ms/step - loss: 0.0343 - acc: 0.9921 - val_loss: 1.0861 - val_acc: 0.9167\n",
      "Epoch 19/25\n",
      "12/12 [==============================] - 1s 94ms/step - loss: 0.1074 - acc: 0.9462\n",
      "79/79 [==============================] - 19s 237ms/step - loss: 0.0551 - acc: 0.9885 - val_loss: 0.1074 - val_acc: 0.9462\n",
      "Epoch 20/25\n",
      "12/12 [==============================] - 1s 89ms/step - loss: 0.1380 - acc: 0.9624: 0s - loss: 0.1420 - acc: 0.963\n",
      "79/79 [==============================] - 17s 210ms/step - loss: 0.0643 - acc: 0.9865 - val_loss: 0.1380 - val_acc: 0.9624\n",
      "Epoch 21/25\n",
      "12/12 [==============================] - 1s 83ms/step - loss: 0.0045 - acc: 1.0000\n",
      "79/79 [==============================] - 16s 206ms/step - loss: 0.0487 - acc: 0.9901 - val_loss: 0.0045 - val_acc: 1.0000\n",
      "Epoch 22/25\n",
      "12/12 [==============================] - 1s 77ms/step - loss: 0.1569 - acc: 0.9409\n",
      "79/79 [==============================] - 16s 202ms/step - loss: 0.0653 - acc: 0.9849 - val_loss: 0.1569 - val_acc: 0.9409\n",
      "Epoch 23/25\n",
      "12/12 [==============================] - 1s 75ms/step - loss: 0.3003 - acc: 0.9005\n",
      "79/79 [==============================] - 15s 195ms/step - loss: 0.0832 - acc: 0.9845 - val_loss: 0.3003 - val_acc: 0.9005\n",
      "Epoch 24/25\n",
      "12/12 [==============================] - 1s 76ms/step - loss: 0.7280 - acc: 0.8978\n",
      "79/79 [==============================] - 17s 216ms/step - loss: 0.0396 - acc: 0.9909 - val_loss: 0.7280 - val_acc: 0.8978\n",
      "Epoch 25/25\n",
      "12/12 [==============================] - 1s 76ms/step - loss: 0.2702 - acc: 0.9167\n",
      "79/79 [==============================] - 15s 193ms/step - loss: 0.0662 - acc: 0.9885 - val_loss: 0.2702 - val_acc: 0.9167\n",
      "406.2607753276825\n"
     ]
    }
   ],
   "source": [
    "#os.environ['CUDA_VISIBLE_DEVICES'] = '-1'\n",
    "model.compile(loss = 'categorical_crossentropy', optimizer='rmsprop', metrics=['accuracy'])\n",
    "t1 = time.time()\n",
    "history = model.fit_generator(train_generator, epochs = 25, validation_data = testing_generator, verbose = 1)\n",
    "print(time.time() - t1)\n",
    "model.save(\"rps.h5\")"
   ]
  },
  {
   "cell_type": "code",
   "execution_count": 81,
   "metadata": {},
   "outputs": [
    {
     "data": {
      "image/png": "[encoded data removed]",
      "text/plain": [
       "<Figure size 432x288 with 1 Axes>"
      ]
     },
     "metadata": {
      "needs_background": "light"
     },
     "output_type": "display_data"
    },
    {
     "data": {
      "text/plain": [
       "<Figure size 432x288 with 0 Axes>"
      ]
     },
     "metadata": {},
     "output_type": "display_data"
    }
   ],
   "source": [
    "import matplotlib.pyplot as plt\n",
    "\n",
    "acc = history.history['acc']\n",
    "val_acc = history.history['val_acc']\n",
    "loss = history.history['loss']\n",
    "val_loss = history.history['val_loss']\n",
    "\n",
    "epochs = range(len(acc))\n",
    "\n",
    "plt.plot(epochs, acc, 'r', label='Training Accuracy')\n",
    "plt.plot(epochs, val_acc, 'b', label='Validation Accuracy')\n",
    "\n",
    "plt.title('Training vs Validation Accuracy')\n",
    "plt.legend(loc = 0)\n",
    "plt.figure()\n",
    "\n",
    "plt.show()"
   ]
  },
  {
   "cell_type": "code",
   "execution_count": 83,
   "metadata": {},
   "outputs": [],
   "source": [
    "import cv2\n",
    "import matplotlib.pyplot as plt\n",
    "import numpy as np\n",
    "import random\n",
    "\n",
    "(wx, wy, length) = (370, 120, 250)\n",
    "(user_points, auto_points) = (0, 0)\n",
    "(previous_prediction, prediction) = (\"!\", \"@\")\n",
    "(predict, restart, auto) = (\"\", False, \"\")\n",
    "classes = [\"Paper\", \"Rock\", \"Scissor\"]\n",
    "\n",
    "video = cv2.VideoCapture(0)\n",
    "\n",
    "while(True):\n",
    "    check, frame = video.read()\n",
    "\n",
    "#frame = np.reshape(frame, (1, 150, 150, -1))\n",
    "#gray = cv2.cvtColor(frame, cv2.COLOR_BGR2GRAY)\n",
    "#cv2.imshow('frame', gray)\n",
    "\n",
    "    if restart:\n",
    "        (user_points, auto_points) = (0, 0)\n",
    "        restart = False\n",
    "        \n",
    "    if check:\n",
    "        cv2.rectangle(frame, (wx, wy), (wx + length - 1, wy + length - 1), (255, 0, 0), 1)\n",
    "        cv2.putText(frame, \"Your Points : %d, Computer Points : %d\"%(user_points, auto_points), (50, 70), cv2.FONT_HERSHEY_SIMPLEX, 0.8, (255, 0, 0), 1)\n",
    "        cv2.putText(frame, \"You : %s, Computer : %s\"%(predict, auto), (50, 50), cv2.FONT_HERSHEY_SIMPLEX, 0.8, (255, 0, 0), 1)\n",
    "        cv2.imshow(\"Rock Paper Scissor\", frame)\n",
    "        frame = frame[wy : wy + length, wx : wx + length]\n",
    "        frame = cv2.resize(frame, (150, 150))\n",
    "        frame = np.expand_dims(frame, axis=0)\n",
    "        prediction = model.predict(frame)[0]\n",
    "        predict = classes[np.argmax(prediction)]\n",
    "        #print(prediction)\n",
    "        if predict != previous_prediction:\n",
    "            auto = random.choice(classes)\n",
    "            if predict == \"Paper\" and auto == \"Rock\":\n",
    "                user_points += 1\n",
    "            if predict == \"Paper\" and auto == \"Scissor\":\n",
    "                auto_points += 1\n",
    "            if predict == \"Rock\" and auto == \"Paper\":\n",
    "                auto_points += 1\n",
    "            if predict == \"Rock\" and auto == \"Scissor\":\n",
    "                user_points += 1\n",
    "            if predict == \"Scissor\" and auto == \"Paper\":\n",
    "                user_points += 1\n",
    "            if predict == \"Scissor\" and auto == \"Rock\":\n",
    "                auto_points += 1\n",
    "            previous_prediction = predict\n",
    "        \n",
    "    key = cv2.waitKey(1) & 0xFF\n",
    "    if key == ord('q'):\n",
    "        break\n",
    "    if key == ord('r'):\n",
    "        restart = True\n",
    "        \n",
    "video.release()\n",
    "cv2.destroyAllWindows()"
   ]
  }
 ],
 "metadata": {
  "kernelspec": {
   "display_name": "Python 3",
   "language": "python",
   "name": "python3"
  },
  "language_info": {
   "codemirror_mode": {
    "name": "ipython",
    "version": 3
   },
   "file_extension": ".py",
   "mimetype": "text/x-python",
   "name": "python",
   "nbconvert_exporter": "python",
   "pygments_lexer": "ipython3",
   "version": "3.7.1"
  }
 },
 "nbformat": 4,
 "nbformat_minor": 2
}
